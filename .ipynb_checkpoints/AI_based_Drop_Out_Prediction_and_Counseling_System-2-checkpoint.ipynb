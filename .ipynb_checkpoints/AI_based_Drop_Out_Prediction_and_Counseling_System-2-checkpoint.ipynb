{
  "cells": [
    {
      "cell_type": "markdown",
      "metadata": {
        "id": "Lz7Ssf-Lyrjm"
      },
      "source": [
        "# AI-based Drop-Out Prediction and Counseling System"
      ]
    },
    {
      "cell_type": "code",
      "execution_count": null,
      "metadata": {
        "colab": {
          "background_save": true
        },
        "id": "8FmhbdNtyAcS"
      },
      "outputs": [],
      "source": [
        "import os\n",
        "import numpy as np\n",
        "import pandas as pd\n",
        "import matplotlib.pyplot as plt"
      ]
    },
    {
      "cell_type": "code",
      "execution_count": null,
      "metadata": {
        "colab": {
          "background_save": true
        },
        "id": "qI5AeRTYy_NH"
      },
      "outputs": [],
      "source": [
        "from google.colab import files\n",
        "uploaded = files.upload()\n",
        "\n",
        "# Then read the file\n",
        "import pandas as pd\n",
        "dataset = pd.read_csv('newDataset.csv')"
      ]
    },
    {
      "cell_type": "code",
      "execution_count": null,
      "metadata": {
        "colab": {
          "background_save": true
        },
        "id": "tutivVoBz44h"
      },
      "outputs": [],
      "source": [
        "dataset.head()"
      ]
    },
    {
      "cell_type": "code",
      "execution_count": null,
      "metadata": {
        "colab": {
          "background_save": true
        },
        "id": "MmfJWvIX-tTJ"
      },
      "outputs": [],
      "source": [
        "dataset.info()"
      ]
    },
    {
      "cell_type": "code",
      "execution_count": null,
      "metadata": {
        "colab": {
          "background_save": true
        },
        "id": "Nv2eHQtK-7vE"
      },
      "outputs": [],
      "source": [
        "dataset.describe()"
      ]
    },
    {
      "cell_type": "code",
      "execution_count": null,
      "metadata": {
        "colab": {
          "background_save": true
        },
        "id": "SUf3YYBf_l6k"
      },
      "outputs": [],
      "source": [
        "print(\"Dropout rate:\", dataset[\"dropout\"].mean())"
      ]
    },
    {
      "cell_type": "markdown",
      "metadata": {
        "id": "Zmz0jpv6C1vX"
      },
      "source": [
        "# Logistic Regression"
      ]
    },
    {
      "cell_type": "code",
      "execution_count": null,
      "metadata": {
        "colab": {
          "background_save": true
        },
        "id": "1qJAmPX6ArmK"
      },
      "outputs": [],
      "source": [
        "from sklearn.model_selection import train_test_split\n",
        "from sklearn.linear_model import LogisticRegression\n",
        "from sklearn.metrics import classification_report\n",
        "\n",
        "X = dataset.drop(columns=[\"student_id\", \"dropout\", \"dropout_probability\", \"dropout_months_from_enrollment\"])\n",
        "y = dataset[\"dropout\"]\n",
        "\n",
        "X = pd.get_dummies(X, drop_first=True)  # handle categorical\n",
        "\n",
        "X_train, X_test, y_train, y_test = train_test_split(X, y, test_size=0.2, random_state=42)\n",
        "\n",
        "model = LogisticRegression(max_iter=1000)\n",
        "model.fit(X_train, y_train)\n",
        "\n",
        "y_pred = model.predict(X_test)\n",
        "\n",
        "print(classification_report(y_test, y_pred))"
      ]
    },
    {
      "cell_type": "markdown",
      "metadata": {
        "id": "S8ObufEDIxqU"
      },
      "source": [
        "# Decision Tree"
      ]
    },
    {
      "cell_type": "code",
      "execution_count": null,
      "metadata": {
        "colab": {
          "background_save": true
        },
        "id": "fIb5-4jxIikC"
      },
      "outputs": [],
      "source": [
        "from sklearn.tree import DecisionTreeClassifier\n",
        "from sklearn.metrics import classification_report, confusion_matrix, accuracy_score\n",
        "\n",
        "# Initialize Decision Tree\n",
        "dt_model = DecisionTreeClassifier(\n",
        "    criterion=\"gini\",   #or entropy\n",
        "    max_depth=10,\n",
        "    random_state=42,\n",
        "    class_weight=\"balanced\"\n",
        ")\n",
        "\n",
        "# Train\n",
        "dt_model.fit(X_train, y_train)\n",
        "\n",
        "# Predict\n",
        "y_pred = dt_model.predict(X_test)\n",
        "\n",
        "# Evaluate\n",
        "print(\"Accuracy:\", accuracy_score(y_test, y_pred))\n",
        "print(\"\\nClassification Report:\\n\", classification_report(y_test, y_pred))\n",
        "print(\"\\nConfusion Matrix:\\n\", confusion_matrix(y_test, y_pred))"
      ]
    },
    {
      "cell_type": "code",
      "execution_count": null,
      "metadata": {
        "colab": {
          "background_save": true
        },
        "id": "k2Equ_QBJGPt"
      },
      "outputs": [],
      "source": [
        "# from sklearn.tree import plot_tree\n",
        "# plot_tree(dt_model)"
      ]
    },
    {
      "cell_type": "code",
      "execution_count": null,
      "metadata": {
        "colab": {
          "background_save": true
        },
        "id": "fPnqRJ75JlDD"
      },
      "outputs": [],
      "source": [
        "from sklearn.metrics import ConfusionMatrixDisplay\n",
        "ConfusionMatrixDisplay.from_estimator(dt_model , X_test , y_test)"
      ]
    },
    {
      "cell_type": "markdown",
      "metadata": {
        "id": "l_EfazjxC6ia"
      },
      "source": [
        "# Random Forest"
      ]
    },
    {
      "cell_type": "code",
      "execution_count": null,
      "metadata": {
        "colab": {
          "background_save": true
        },
        "id": "9it06WAWCEFP"
      },
      "outputs": [],
      "source": [
        "from sklearn.ensemble import RandomForestClassifier\n",
        "from sklearn.metrics import classification_report, confusion_matrix, accuracy_score\n",
        "\n",
        "# Initialize Random Forest\n",
        "rf_model = RandomForestClassifier(\n",
        "    n_estimators=1000,  # number of trees\n",
        "    max_depth=10,      # prevent overfitting\n",
        "    random_state=42,\n",
        "    class_weight=\"balanced\"  # handles dropout imbalance\n",
        ")\n",
        "\n",
        "# Train\n",
        "rf_model.fit(X_train, y_train)\n",
        "\n",
        "# Predict\n",
        "y_pred = rf_model.predict(X_test)\n",
        "\n",
        "# Evaluate\n",
        "print(\"Accuracy:\", accuracy_score(y_test, y_pred))\n",
        "print(\"\\nClassification Report:\\n\", classification_report(y_test, y_pred))\n",
        "print(\"\\nConfusion Matrix:\\n\", confusion_matrix(y_test, y_pred))"
      ]
    },
    {
      "cell_type": "code",
      "execution_count": null,
      "metadata": {
        "colab": {
          "background_save": true
        },
        "id": "oM8u5ZQ8J6TO"
      },
      "outputs": [],
      "source": [
        "from sklearn.metrics import ConfusionMatrixDisplay\n",
        "ConfusionMatrixDisplay.from_estimator(rf_model , X_test , y_test)"
      ]
    },
    {
      "cell_type": "code",
      "execution_count": null,
      "metadata": {
        "colab": {
          "background_save": true
        },
        "id": "0WmpTYivCQPn"
      },
      "outputs": [],
      "source": [
        "import matplotlib.pyplot as plt\n",
        "\n",
        "importances = rf_model.feature_importances_\n",
        "features = X.columns\n",
        "\n",
        "# Sort by importance\n",
        "indices = importances.argsort()[::-1]\n",
        "\n",
        "plt.figure(figsize=(10,6))\n",
        "plt.bar(range(15), importances[indices][:15], align=\"center\")\n",
        "plt.xticks(range(15), [features[i] for i in indices[:15]], rotation=45, ha=\"right\")\n",
        "plt.title(\"Top 15 Features Influencing Dropout\")\n",
        "plt.show()"
      ]
    },
    {
      "cell_type": "markdown",
      "metadata": {
        "id": "V5VQP2rpLcga"
      },
      "source": [
        "# XG Boost"
      ]
    },
    {
      "cell_type": "code",
      "execution_count": null,
      "metadata": {
        "colab": {
          "background_save": true
        },
        "id": "C7VvvEP6CT7W"
      },
      "outputs": [],
      "source": [
        "from xgboost import XGBClassifier\n",
        "from sklearn.metrics import classification_report, confusion_matrix, accuracy_score\n",
        "\n",
        "# Initialize XGBoost\n",
        "xgb_model = XGBClassifier(\n",
        "    n_estimators=300,        # number of boosting rounds\n",
        "    max_depth=6,             # tree depth\n",
        "    learning_rate=0.1,       # step size shrinkage\n",
        "    subsample=0.8,           # random sampling of training data\n",
        "    colsample_bytree=0.8,    # random sampling of features\n",
        "    random_state=42,\n",
        "    scale_pos_weight=1       # handles class imbalance (can tune based on dropout ratio)\n",
        ")\n",
        "\n",
        "# Train\n",
        "xgb_model.fit(X_train, y_train)\n",
        "\n",
        "# Predict\n",
        "y_pred = xgb_model.predict(X_test)\n",
        "\n",
        "# Evaluate\n",
        "print(\"Accuracy:\", accuracy_score(y_test, y_pred))\n",
        "print(\"\\nClassification Report:\\n\", classification_report(y_test, y_pred))\n",
        "print(\"\\nConfusion Matrix:\\n\", confusion_matrix(y_test, y_pred))"
      ]
    },
    {
      "cell_type": "code",
      "source": [
        "# import lightgbm as lgb\n",
        "# from sklearn.metrics import classification_report, confusion_matrix, accuracy_score\n",
        "\n",
        "# # Initialize LightGBM Classifier\n",
        "# lgb_model = lgb.LGBMClassifier(\n",
        "#     n_estimators=1000,       # more boosting rounds\n",
        "#     learning_rate=0.03,      # lower LR for better generalization\n",
        "#     num_leaves=64,           # try 31, 64, 127\n",
        "#     max_depth=10,            # limit tree depth\n",
        "#     subsample=0.8,\n",
        "#     colsample_bytree=0.8,\n",
        "#     reg_alpha=0.1,           # L1 regularization\n",
        "#     reg_lambda=0.1,          # L2 regularization\n",
        "#     random_state=42,\n",
        "#     class_weight=\"balanced\"\n",
        "# )\n",
        "\n",
        "# # Train\n",
        "# lgb_model.fit(X_train, y_train)\n",
        "\n",
        "# # Predict\n",
        "# y_pred = lgb_model.predict(X_test)\n",
        "\n",
        "# # Evaluate\n",
        "# print(\"Accuracy:\", accuracy_score(y_test, y_pred))\n",
        "# print(\"\\nClassification Report:\\n\", classification_report(y_test, y_pred))\n",
        "# print(\"\\nConfusion Matrix:\\n\", confusion_matrix(y_test, y_pred))"
      ],
      "metadata": {
        "id": "rmiR1JBTQuJv"
      },
      "execution_count": null,
      "outputs": []
    },
    {
      "cell_type": "code",
      "source": [
        "import lightgbm as lgb\n",
        "from sklearn.model_selection import GridSearchCV\n",
        "from sklearn.metrics import classification_report, confusion_matrix, accuracy_score\n",
        "\n",
        "# Base model\n",
        "lgb_model = lgb.LGBMClassifier(\n",
        "    objective=\"binary\",\n",
        "    random_state=42,\n",
        "    class_weight=\"balanced\"\n",
        ")\n",
        "\n",
        "# Parameter grid\n",
        "param_grid = {\n",
        "    \"num_leaves\": [31, 63, 127],\n",
        "    \"max_depth\": [5, 10, 15],\n",
        "    \"learning_rate\": [0.1, 0.05, 0.01],\n",
        "    \"n_estimators\": [200, 500, 1000],\n",
        "    \"subsample\": [0.8, 1.0],\n",
        "    \"colsample_bytree\": [0.8, 1.0]\n",
        "}\n",
        "\n",
        "# GridSearchCV\n",
        "grid_search = GridSearchCV(\n",
        "    estimator=lgb_model,\n",
        "    param_grid=param_grid,\n",
        "    scoring=\"accuracy\",\n",
        "    cv=5,\n",
        "    verbose=2,\n",
        "    n_jobs=-1\n",
        ")\n",
        "\n",
        "# Fit model\n",
        "grid_search.fit(X_train, y_train)\n",
        "\n",
        "# Best parameters\n",
        "print(\"Best Parameters:\", grid_search.best_params_)\n",
        "\n",
        "# Best model\n",
        "best_lgb = grid_search.best_estimator_\n",
        "\n",
        "# Predictions\n",
        "y_pred = best_lgb.predict(X_test)\n",
        "\n",
        "# Evaluate\n",
        "print(\"Accuracy:\", accuracy_score(y_test, y_pred))\n",
        "print(\"\\nClassification Report:\\n\", classification_report(y_test, y_pred))\n",
        "print(\"\\nConfusion Matrix:\\n\", confusion_matrix(y_test, y_pred))"
      ],
      "metadata": {
        "colab": {
          "base_uri": "https://localhost:8080/"
        },
        "id": "wokWMQ2_SZZ1",
        "outputId": "25d8eba6-2581-415e-b6a1-e8f8b5126b66"
      },
      "execution_count": null,
      "outputs": [
        {
          "metadata": {
            "tags": null
          },
          "name": "stdout",
          "output_type": "stream",
          "text": [
            "Fitting 5 folds for each of 324 candidates, totalling 1620 fits\n"
          ]
        }
      ]
    },
    {
      "cell_type": "markdown",
      "metadata": {
        "id": "PgO-w9vXB7UE"
      },
      "source": [
        "###  Build counseling rules\n",
        "\n",
        "### Based on features, you can flag students at risk:\n",
        "\t### •\tLow GPA + low attendance → Academic counseling\n",
        "\t### •\tFinancial hold + no scholarship → Financial counseling\n",
        "\t### •\tPart-time job + high absences → Time management counseling"
      ]
    },
    {
      "cell_type": "code",
      "execution_count": null,
      "metadata": {
        "colab": {
          "background_save": true
        },
        "id": "nEMHm99EBxPY"
      },
      "outputs": [],
      "source": [
        "# Academic counseling\n",
        "academic_risk = dataset[(dataset[\"cumulative_gpa\"] < 5.0) & (dataset[\"attendance_rate_pct\"] < 50)]\n",
        "\n",
        "# Financial counseling\n",
        "financial_risk = dataset[(dataset[\"financial_hold\"] == 1) & (dataset[\"scholarship\"] == 0)]\n",
        "\n",
        "# Time management counseling\n",
        "time_risk = dataset[(dataset[\"part_time_job\"] == 1) & (dataset[\"attendance_rate_pct\"] < 50)]\n",
        "\n",
        "print(\"Students needing Academic Counseling:\", len(academic_risk))\n",
        "print(\"Students needing Financial Counseling:\", len(financial_risk))\n",
        "print(\"Students needing Time Management Counseling:\", len(time_risk))\n",
        "\n",
        "# Optional: unique counts (some students may fall into multiple categories)\n",
        "total_unique = pd.concat([academic_risk, financial_risk, time_risk]).drop_duplicates()\n",
        "print(\"Total unique students needing support:\", len(total_unique))"
      ]
    },
    {
      "cell_type": "code",
      "execution_count": null,
      "metadata": {
        "colab": {
          "background_save": true
        },
        "id": "T7pPHbwPML9U"
      },
      "outputs": [],
      "source": []
    }
  ],
  "metadata": {
    "colab": {
      "provenance": []
    },
    "kernelspec": {
      "display_name": "Python 3",
      "name": "python3"
    },
    "language_info": {
      "name": "python"
    }
  },
  "nbformat": 4,
  "nbformat_minor": 0
}